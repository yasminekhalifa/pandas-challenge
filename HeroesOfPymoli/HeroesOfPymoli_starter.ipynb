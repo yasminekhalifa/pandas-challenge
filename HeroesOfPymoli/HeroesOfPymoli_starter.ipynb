{
 "cells": [
  {
   "cell_type": "markdown",
   "metadata": {},
   "source": [
    "## Observable Trends:\n",
    "\n",
    "1. It's clear that the majority of the players are males; as shown in the Gender Demographics table where male players contribute to 84.03% where female players present only 14% therefore, it's expected to find that they cover most of the item purchases yet, the Avg Total Purchase per Person is higher in female players.\n",
    "\n",
    "2. Most of the players fall in the age range between 15 and 24 as shown in the Age Demographics table, where they form around 63% of the total number of players.\n",
    "\n",
    "3. The highest Avg Total Purchase per Person in all ages are players between 35 to 39 years old yet, the don't contibute much to the Total Purchase Value. On the other hand, players between 20 to 24 years old have the third highest average total purchase per person and contribute to the highest increase in Total Purchase Value. "
   ]
  },
  {
   "cell_type": "markdown",
   "metadata": {},
   "source": [
    "### Note\n",
    "* Instructions have been included for each segment. You do not have to follow them exactly, but they are included to help you think through the steps."
   ]
  },
  {
   "cell_type": "code",
   "execution_count": 1,
   "metadata": {},
   "outputs": [
    {
     "data": {
      "text/html": [
       "<div>\n",
       "<style scoped>\n",
       "    .dataframe tbody tr th:only-of-type {\n",
       "        vertical-align: middle;\n",
       "    }\n",
       "\n",
       "    .dataframe tbody tr th {\n",
       "        vertical-align: top;\n",
       "    }\n",
       "\n",
       "    .dataframe thead th {\n",
       "        text-align: right;\n",
       "    }\n",
       "</style>\n",
       "<table border=\"1\" class=\"dataframe\">\n",
       "  <thead>\n",
       "    <tr style=\"text-align: right;\">\n",
       "      <th></th>\n",
       "      <th>Purchase ID</th>\n",
       "      <th>SN</th>\n",
       "      <th>Age</th>\n",
       "      <th>Gender</th>\n",
       "      <th>Item ID</th>\n",
       "      <th>Item Name</th>\n",
       "      <th>Price</th>\n",
       "    </tr>\n",
       "  </thead>\n",
       "  <tbody>\n",
       "    <tr>\n",
       "      <th>0</th>\n",
       "      <td>0</td>\n",
       "      <td>Lisim78</td>\n",
       "      <td>20</td>\n",
       "      <td>Male</td>\n",
       "      <td>108</td>\n",
       "      <td>Extraction, Quickblade Of Trembling Hands</td>\n",
       "      <td>3.53</td>\n",
       "    </tr>\n",
       "    <tr>\n",
       "      <th>1</th>\n",
       "      <td>1</td>\n",
       "      <td>Lisovynya38</td>\n",
       "      <td>40</td>\n",
       "      <td>Male</td>\n",
       "      <td>143</td>\n",
       "      <td>Frenzied Scimitar</td>\n",
       "      <td>1.56</td>\n",
       "    </tr>\n",
       "    <tr>\n",
       "      <th>2</th>\n",
       "      <td>2</td>\n",
       "      <td>Ithergue48</td>\n",
       "      <td>24</td>\n",
       "      <td>Male</td>\n",
       "      <td>92</td>\n",
       "      <td>Final Critic</td>\n",
       "      <td>4.88</td>\n",
       "    </tr>\n",
       "    <tr>\n",
       "      <th>3</th>\n",
       "      <td>3</td>\n",
       "      <td>Chamassasya86</td>\n",
       "      <td>24</td>\n",
       "      <td>Male</td>\n",
       "      <td>100</td>\n",
       "      <td>Blindscythe</td>\n",
       "      <td>3.27</td>\n",
       "    </tr>\n",
       "    <tr>\n",
       "      <th>4</th>\n",
       "      <td>4</td>\n",
       "      <td>Iskosia90</td>\n",
       "      <td>23</td>\n",
       "      <td>Male</td>\n",
       "      <td>131</td>\n",
       "      <td>Fury</td>\n",
       "      <td>1.44</td>\n",
       "    </tr>\n",
       "    <tr>\n",
       "      <th>5</th>\n",
       "      <td>5</td>\n",
       "      <td>Yalae81</td>\n",
       "      <td>22</td>\n",
       "      <td>Male</td>\n",
       "      <td>81</td>\n",
       "      <td>Dreamkiss</td>\n",
       "      <td>3.61</td>\n",
       "    </tr>\n",
       "    <tr>\n",
       "      <th>6</th>\n",
       "      <td>6</td>\n",
       "      <td>Itheria73</td>\n",
       "      <td>36</td>\n",
       "      <td>Male</td>\n",
       "      <td>169</td>\n",
       "      <td>Interrogator, Blood Blade of the Queen</td>\n",
       "      <td>2.18</td>\n",
       "    </tr>\n",
       "    <tr>\n",
       "      <th>7</th>\n",
       "      <td>7</td>\n",
       "      <td>Iskjaskst81</td>\n",
       "      <td>20</td>\n",
       "      <td>Male</td>\n",
       "      <td>162</td>\n",
       "      <td>Abyssal Shard</td>\n",
       "      <td>2.67</td>\n",
       "    </tr>\n",
       "    <tr>\n",
       "      <th>8</th>\n",
       "      <td>8</td>\n",
       "      <td>Undjask33</td>\n",
       "      <td>22</td>\n",
       "      <td>Male</td>\n",
       "      <td>21</td>\n",
       "      <td>Souleater</td>\n",
       "      <td>1.10</td>\n",
       "    </tr>\n",
       "    <tr>\n",
       "      <th>9</th>\n",
       "      <td>9</td>\n",
       "      <td>Chanosian48</td>\n",
       "      <td>35</td>\n",
       "      <td>Other / Non-Disclosed</td>\n",
       "      <td>136</td>\n",
       "      <td>Ghastly Adamantite Protector</td>\n",
       "      <td>3.58</td>\n",
       "    </tr>\n",
       "  </tbody>\n",
       "</table>\n",
       "</div>"
      ],
      "text/plain": [
       "   Purchase ID             SN  Age                 Gender  Item ID  \\\n",
       "0            0        Lisim78   20                   Male      108   \n",
       "1            1    Lisovynya38   40                   Male      143   \n",
       "2            2     Ithergue48   24                   Male       92   \n",
       "3            3  Chamassasya86   24                   Male      100   \n",
       "4            4      Iskosia90   23                   Male      131   \n",
       "5            5        Yalae81   22                   Male       81   \n",
       "6            6      Itheria73   36                   Male      169   \n",
       "7            7    Iskjaskst81   20                   Male      162   \n",
       "8            8      Undjask33   22                   Male       21   \n",
       "9            9    Chanosian48   35  Other / Non-Disclosed      136   \n",
       "\n",
       "                                   Item Name  Price  \n",
       "0  Extraction, Quickblade Of Trembling Hands   3.53  \n",
       "1                          Frenzied Scimitar   1.56  \n",
       "2                               Final Critic   4.88  \n",
       "3                                Blindscythe   3.27  \n",
       "4                                       Fury   1.44  \n",
       "5                                  Dreamkiss   3.61  \n",
       "6     Interrogator, Blood Blade of the Queen   2.18  \n",
       "7                              Abyssal Shard   2.67  \n",
       "8                                  Souleater   1.10  \n",
       "9               Ghastly Adamantite Protector   3.58  "
      ]
     },
     "execution_count": 1,
     "metadata": {},
     "output_type": "execute_result"
    }
   ],
   "source": [
    "# Dependencies and Setup\n",
    "import pandas as pd\n",
    "\n",
    "# File to Load (Remember to Change These)\n",
    "file_to_load = \"Resources/purchase_data.csv\"\n",
    "\n",
    "# Read Purchasing File and store into Pandas data frame\n",
    "purchase_data = pd.read_csv(file_to_load)\n",
    "purchase_data.head(10)"
   ]
  },
  {
   "cell_type": "markdown",
   "metadata": {},
   "source": [
    "## Player Count"
   ]
  },
  {
   "cell_type": "markdown",
   "metadata": {},
   "source": [
    "* Display the total number of players\n"
   ]
  },
  {
   "cell_type": "code",
   "execution_count": 2,
   "metadata": {},
   "outputs": [
    {
     "data": {
      "text/html": [
       "<div>\n",
       "<style scoped>\n",
       "    .dataframe tbody tr th:only-of-type {\n",
       "        vertical-align: middle;\n",
       "    }\n",
       "\n",
       "    .dataframe tbody tr th {\n",
       "        vertical-align: top;\n",
       "    }\n",
       "\n",
       "    .dataframe thead th {\n",
       "        text-align: right;\n",
       "    }\n",
       "</style>\n",
       "<table border=\"1\" class=\"dataframe\">\n",
       "  <thead>\n",
       "    <tr style=\"text-align: right;\">\n",
       "      <th></th>\n",
       "      <th>Total player</th>\n",
       "    </tr>\n",
       "  </thead>\n",
       "  <tbody>\n",
       "    <tr>\n",
       "      <th>0</th>\n",
       "      <td>576</td>\n",
       "    </tr>\n",
       "  </tbody>\n",
       "</table>\n",
       "</div>"
      ],
      "text/plain": [
       "   Total player\n",
       "0           576"
      ]
     },
     "execution_count": 2,
     "metadata": {},
     "output_type": "execute_result"
    }
   ],
   "source": [
    "unique = len(purchase_data[\"SN\"].unique())\n",
    "Player_df = pd.DataFrame({\"Total player\":[unique]})\n",
    "Player_df"
   ]
  },
  {
   "cell_type": "markdown",
   "metadata": {},
   "source": [
    "## Purchasing Analysis (Total)"
   ]
  },
  {
   "cell_type": "markdown",
   "metadata": {},
   "source": [
    "* Run basic calculations to obtain number of unique items, average price, etc.\n",
    "\n",
    "\n",
    "* Create a summary data frame to hold the results\n",
    "\n",
    "\n",
    "* Optional: give the displayed data cleaner formatting\n",
    "\n",
    "\n",
    "* Display the summary data frame\n"
   ]
  },
  {
   "cell_type": "code",
   "execution_count": 3,
   "metadata": {
    "scrolled": true
   },
   "outputs": [
    {
     "data": {
      "text/html": [
       "<div>\n",
       "<style scoped>\n",
       "    .dataframe tbody tr th:only-of-type {\n",
       "        vertical-align: middle;\n",
       "    }\n",
       "\n",
       "    .dataframe tbody tr th {\n",
       "        vertical-align: top;\n",
       "    }\n",
       "\n",
       "    .dataframe thead th {\n",
       "        text-align: right;\n",
       "    }\n",
       "</style>\n",
       "<table border=\"1\" class=\"dataframe\">\n",
       "  <thead>\n",
       "    <tr style=\"text-align: right;\">\n",
       "      <th></th>\n",
       "      <th>Number of Unique Items</th>\n",
       "      <th>Average Price</th>\n",
       "      <th>Number of Purchases</th>\n",
       "      <th>Total Revenue</th>\n",
       "    </tr>\n",
       "  </thead>\n",
       "  <tbody>\n",
       "    <tr>\n",
       "      <th>0</th>\n",
       "      <td>179</td>\n",
       "      <td>$3.05</td>\n",
       "      <td>780</td>\n",
       "      <td>$2379.77</td>\n",
       "    </tr>\n",
       "  </tbody>\n",
       "</table>\n",
       "</div>"
      ],
      "text/plain": [
       "   Number of Unique Items Average Price  Number of Purchases Total Revenue\n",
       "0                     179         $3.05                  780      $2379.77"
      ]
     },
     "execution_count": 3,
     "metadata": {},
     "output_type": "execute_result"
    }
   ],
   "source": [
    "unique_items = len(purchase_data[\"Item ID\"].unique())\n",
    "Average_price = f'${purchase_data[\"Price\"].mean():.2f}'\n",
    "Total_purchases = len(purchase_data[\"Purchase ID\"])\n",
    "Total_revenue = f'${purchase_data[\"Price\"].sum():.2f}'\n",
    "Purchasing_analysis = pd.DataFrame({\n",
    "    \"Number of Unique Items\":[unique_items],\n",
    "    \"Average Price\":[Average_price],\n",
    "    \"Number of Purchases\":[Total_purchases],\n",
    "    \"Total Revenue\":[Total_revenue]\n",
    "})\n",
    "\n",
    "Purchasing_analysis"
   ]
  },
  {
   "cell_type": "markdown",
   "metadata": {},
   "source": [
    "## Gender Demographics"
   ]
  },
  {
   "cell_type": "markdown",
   "metadata": {},
   "source": [
    "* Percentage and Count of Male Players\n",
    "\n",
    "\n",
    "* Percentage and Count of Female Players\n",
    "\n",
    "\n",
    "* Percentage and Count of Other / Non-Disclosed\n",
    "\n",
    "\n"
   ]
  },
  {
   "cell_type": "code",
   "execution_count": 4,
   "metadata": {},
   "outputs": [
    {
     "data": {
      "text/html": [
       "<div>\n",
       "<style scoped>\n",
       "    .dataframe tbody tr th:only-of-type {\n",
       "        vertical-align: middle;\n",
       "    }\n",
       "\n",
       "    .dataframe tbody tr th {\n",
       "        vertical-align: top;\n",
       "    }\n",
       "\n",
       "    .dataframe thead th {\n",
       "        text-align: right;\n",
       "    }\n",
       "</style>\n",
       "<table border=\"1\" class=\"dataframe\">\n",
       "  <thead>\n",
       "    <tr style=\"text-align: right;\">\n",
       "      <th></th>\n",
       "      <th>Total Count</th>\n",
       "      <th>Percentage of Players</th>\n",
       "    </tr>\n",
       "  </thead>\n",
       "  <tbody>\n",
       "    <tr>\n",
       "      <th>Male</th>\n",
       "      <td>484</td>\n",
       "      <td>84.03%</td>\n",
       "    </tr>\n",
       "    <tr>\n",
       "      <th>Female</th>\n",
       "      <td>81</td>\n",
       "      <td>14.06%</td>\n",
       "    </tr>\n",
       "    <tr>\n",
       "      <th>Other / Non-Disclosed</th>\n",
       "      <td>11</td>\n",
       "      <td>1.91%</td>\n",
       "    </tr>\n",
       "  </tbody>\n",
       "</table>\n",
       "</div>"
      ],
      "text/plain": [
       "                       Total Count Percentage of Players\n",
       "Male                           484                84.03%\n",
       "Female                          81                14.06%\n",
       "Other / Non-Disclosed           11                 1.91%"
      ]
     },
     "execution_count": 4,
     "metadata": {},
     "output_type": "execute_result"
    }
   ],
   "source": [
    "Unique_sn = purchase_data.drop_duplicates(subset=['SN'])\n",
    "Count = Unique_sn[\"Gender\"].value_counts()\n",
    "Percentage = (Count/len(Unique_sn[\"Gender\"])*100).map('{:,.2f}%'.format)\n",
    "Gender_demographics = pd.DataFrame({\"Total Count\":Count,\"Percentage of Players\":Percentage})\n",
    "Gender_demographics"
   ]
  },
  {
   "cell_type": "markdown",
   "metadata": {},
   "source": [
    "\n",
    "## Purchasing Analysis (Gender)"
   ]
  },
  {
   "cell_type": "markdown",
   "metadata": {},
   "source": [
    "* Run basic calculations to obtain purchase count, avg. purchase price, avg. purchase total per person etc. by gender\n",
    "\n",
    "\n",
    "\n",
    "\n",
    "* Create a summary data frame to hold the results\n",
    "\n",
    "\n",
    "* Optional: give the displayed data cleaner formatting\n",
    "\n",
    "\n",
    "* Display the summary data frame"
   ]
  },
  {
   "cell_type": "code",
   "execution_count": 5,
   "metadata": {},
   "outputs": [
    {
     "data": {
      "text/html": [
       "<div>\n",
       "<style scoped>\n",
       "    .dataframe tbody tr th:only-of-type {\n",
       "        vertical-align: middle;\n",
       "    }\n",
       "\n",
       "    .dataframe tbody tr th {\n",
       "        vertical-align: top;\n",
       "    }\n",
       "\n",
       "    .dataframe thead th {\n",
       "        text-align: right;\n",
       "    }\n",
       "</style>\n",
       "<table border=\"1\" class=\"dataframe\">\n",
       "  <thead>\n",
       "    <tr style=\"text-align: right;\">\n",
       "      <th></th>\n",
       "      <th>Purchase Count</th>\n",
       "      <th>Average Purchase Price</th>\n",
       "      <th>Total Purchase Value</th>\n",
       "      <th>Avg Total Purchase per Person</th>\n",
       "    </tr>\n",
       "  </thead>\n",
       "  <tbody>\n",
       "    <tr>\n",
       "      <th>Male</th>\n",
       "      <td>652</td>\n",
       "      <td>$3.02</td>\n",
       "      <td>$1967.64</td>\n",
       "      <td>$4.07</td>\n",
       "    </tr>\n",
       "    <tr>\n",
       "      <th>Female</th>\n",
       "      <td>113</td>\n",
       "      <td>$3.20</td>\n",
       "      <td>$361.94</td>\n",
       "      <td>$4.47</td>\n",
       "    </tr>\n",
       "    <tr>\n",
       "      <th>Other / Non-Disclosed</th>\n",
       "      <td>15</td>\n",
       "      <td>$3.35</td>\n",
       "      <td>$50.19</td>\n",
       "      <td>$4.56</td>\n",
       "    </tr>\n",
       "  </tbody>\n",
       "</table>\n",
       "</div>"
      ],
      "text/plain": [
       "                       Purchase Count Average Purchase Price  \\\n",
       "Male                              652                  $3.02   \n",
       "Female                            113                  $3.20   \n",
       "Other / Non-Disclosed              15                  $3.35   \n",
       "\n",
       "                      Total Purchase Value Avg Total Purchase per Person  \n",
       "Male                              $1967.64                         $4.07  \n",
       "Female                             $361.94                         $4.47  \n",
       "Other / Non-Disclosed               $50.19                         $4.56  "
      ]
     },
     "execution_count": 5,
     "metadata": {},
     "output_type": "execute_result"
    }
   ],
   "source": [
    "Count2 = purchase_data[\"Gender\"].value_counts()\n",
    "only_male = purchase_data.loc[purchase_data[\"Gender\"] == \"Male\",\"Price\"]\n",
    "only_female = purchase_data.loc[purchase_data[\"Gender\"] == \"Female\",\"Price\"]\n",
    "only_others = purchase_data.loc[purchase_data[\"Gender\"] == \"Other / Non-Disclosed\",\"Price\"]\n",
    "Purchasing_analysis = pd.DataFrame({\"Purchase Count\": Count2,\n",
    "                                    \"Average Purchase Price\": [f'${only_male.mean():.2f}', f'${only_female.mean():.2f}', f'${only_others.mean():.2f}'],\n",
    "                                    \"Total Purchase Value\":[f'${only_male.sum()}', f'${only_female.sum()}', f'${only_others.sum()}'],\n",
    "                                    \"Avg Total Purchase per Person\":[f'${only_male.sum()/Count[0]:.2f}', f'${only_female.sum()/Count[1]:.2f}', f'${only_others.sum()/Count[2]:.2f}']})\n",
    "Purchasing_analysis"
   ]
  },
  {
   "cell_type": "markdown",
   "metadata": {},
   "source": [
    "## Age Demographics"
   ]
  },
  {
   "cell_type": "markdown",
   "metadata": {},
   "source": [
    "* Establish bins for ages\n",
    "\n",
    "\n",
    "* Categorize the existing players using the age bins. Hint: use pd.cut()\n",
    "\n",
    "\n",
    "* Calculate the numbers and percentages by age group\n",
    "\n",
    "\n",
    "* Create a summary data frame to hold the results\n",
    "\n",
    "\n",
    "* Optional: round the percentage column to two decimal points\n",
    "\n",
    "\n",
    "* Display Age Demographics Table\n"
   ]
  },
  {
   "cell_type": "code",
   "execution_count": 6,
   "metadata": {},
   "outputs": [
    {
     "name": "stderr",
     "output_type": "stream",
     "text": [
      "/Users/yasminekhalifa/opt/anaconda3/lib/python3.7/site-packages/ipykernel_launcher.py:3: SettingWithCopyWarning: \n",
      "A value is trying to be set on a copy of a slice from a DataFrame.\n",
      "Try using .loc[row_indexer,col_indexer] = value instead\n",
      "\n",
      "See the caveats in the documentation: https://pandas.pydata.org/pandas-docs/stable/user_guide/indexing.html#returning-a-view-versus-a-copy\n",
      "  This is separate from the ipykernel package so we can avoid doing imports until\n"
     ]
    },
    {
     "data": {
      "text/html": [
       "<div>\n",
       "<style scoped>\n",
       "    .dataframe tbody tr th:only-of-type {\n",
       "        vertical-align: middle;\n",
       "    }\n",
       "\n",
       "    .dataframe tbody tr th {\n",
       "        vertical-align: top;\n",
       "    }\n",
       "\n",
       "    .dataframe thead th {\n",
       "        text-align: right;\n",
       "    }\n",
       "</style>\n",
       "<table border=\"1\" class=\"dataframe\">\n",
       "  <thead>\n",
       "    <tr style=\"text-align: right;\">\n",
       "      <th></th>\n",
       "      <th>Total Count</th>\n",
       "      <th>Percentage of Players</th>\n",
       "    </tr>\n",
       "    <tr>\n",
       "      <th>bins</th>\n",
       "      <th></th>\n",
       "      <th></th>\n",
       "    </tr>\n",
       "  </thead>\n",
       "  <tbody>\n",
       "    <tr>\n",
       "      <th>10-14</th>\n",
       "      <td>22</td>\n",
       "      <td>3.82%</td>\n",
       "    </tr>\n",
       "    <tr>\n",
       "      <th>15-19</th>\n",
       "      <td>107</td>\n",
       "      <td>18.58%</td>\n",
       "    </tr>\n",
       "    <tr>\n",
       "      <th>20-24</th>\n",
       "      <td>258</td>\n",
       "      <td>44.79%</td>\n",
       "    </tr>\n",
       "    <tr>\n",
       "      <th>25-29</th>\n",
       "      <td>77</td>\n",
       "      <td>13.37%</td>\n",
       "    </tr>\n",
       "    <tr>\n",
       "      <th>30-34</th>\n",
       "      <td>52</td>\n",
       "      <td>9.03%</td>\n",
       "    </tr>\n",
       "    <tr>\n",
       "      <th>35-39</th>\n",
       "      <td>31</td>\n",
       "      <td>5.38%</td>\n",
       "    </tr>\n",
       "    <tr>\n",
       "      <th>&lt;10</th>\n",
       "      <td>17</td>\n",
       "      <td>2.95%</td>\n",
       "    </tr>\n",
       "    <tr>\n",
       "      <th>&gt;40</th>\n",
       "      <td>12</td>\n",
       "      <td>2.08%</td>\n",
       "    </tr>\n",
       "  </tbody>\n",
       "</table>\n",
       "</div>"
      ],
      "text/plain": [
       "       Total Count Percentage of Players\n",
       "bins                                    \n",
       "10-14           22                 3.82%\n",
       "15-19          107                18.58%\n",
       "20-24          258                44.79%\n",
       "25-29           77                13.37%\n",
       "30-34           52                 9.03%\n",
       "35-39           31                 5.38%\n",
       "<10             17                 2.95%\n",
       ">40             12                 2.08%"
      ]
     },
     "execution_count": 6,
     "metadata": {},
     "output_type": "execute_result"
    }
   ],
   "source": [
    "bins = [0,9,14,19,24,29,34,39,70]\n",
    "names = [\"<10\",\"10-14\",\"15-19\",\"20-24\",\"25-29\",\"30-34\",\"35-39\",\">40\"]\n",
    "Unique_sn[\"bins\"] = pd.DataFrame(pd.cut(Unique_sn[\"Age\"], bins, labels=names, include_lowest=True))\n",
    "binsdf = Unique_sn.groupby([\"bins\"])\n",
    "total_count = binsdf[\"Gender\"].count()\n",
    "player_percentage = (total_count/len(Unique_sn[\"Gender\"])*100).map('{:,.2f}%'.format)\n",
    "uniquesn_bindf = pd.DataFrame({ \"Total Count\": total_count,\n",
    "                               \"Percentage of Players\": player_percentage})\n",
    "uniquesn_bindf"
   ]
  },
  {
   "cell_type": "markdown",
   "metadata": {},
   "source": [
    "## Purchasing Analysis (Age)"
   ]
  },
  {
   "cell_type": "markdown",
   "metadata": {},
   "source": [
    "* Bin the purchase_data data frame by age\n",
    "\n",
    "\n",
    "* Run basic calculations to obtain purchase count, avg. purchase price, avg. purchase total per person etc. in the table below\n",
    "\n",
    "\n",
    "* Create a summary data frame to hold the results\n",
    "\n",
    "\n",
    "* Optional: give the displayed data cleaner formatting\n",
    "\n",
    "\n",
    "* Display the summary data frame"
   ]
  },
  {
   "cell_type": "code",
   "execution_count": 16,
   "metadata": {},
   "outputs": [
    {
     "data": {
      "text/html": [
       "<style  type=\"text/css\" >\n",
       "</style><table id=\"T_26363bfe_b33d_11ea_8637_3e22fb2e45d1\" ><thead>    <tr>        <th class=\"blank level0\" ></th>        <th class=\"col_heading level0 col0\" >Purchase Count</th>        <th class=\"col_heading level0 col1\" >Average Purchase Price</th>        <th class=\"col_heading level0 col2\" >Total Purchase Value</th>        <th class=\"col_heading level0 col3\" >Avg Total Purchase per Person</th>    </tr>    <tr>        <th class=\"index_name level0\" >bins</th>        <th class=\"blank\" ></th>        <th class=\"blank\" ></th>        <th class=\"blank\" ></th>        <th class=\"blank\" ></th>    </tr></thead><tbody>\n",
       "                <tr>\n",
       "                        <th id=\"T_26363bfe_b33d_11ea_8637_3e22fb2e45d1level0_row0\" class=\"row_heading level0 row0\" >10-14</th>\n",
       "                        <td id=\"T_26363bfe_b33d_11ea_8637_3e22fb2e45d1row0_col0\" class=\"data row0 col0\" >28</td>\n",
       "                        <td id=\"T_26363bfe_b33d_11ea_8637_3e22fb2e45d1row0_col1\" class=\"data row0 col1\" >$2.96</td>\n",
       "                        <td id=\"T_26363bfe_b33d_11ea_8637_3e22fb2e45d1row0_col2\" class=\"data row0 col2\" >$82.78</td>\n",
       "                        <td id=\"T_26363bfe_b33d_11ea_8637_3e22fb2e45d1row0_col3\" class=\"data row0 col3\" >$3.76</td>\n",
       "            </tr>\n",
       "            <tr>\n",
       "                        <th id=\"T_26363bfe_b33d_11ea_8637_3e22fb2e45d1level0_row1\" class=\"row_heading level0 row1\" >15-19</th>\n",
       "                        <td id=\"T_26363bfe_b33d_11ea_8637_3e22fb2e45d1row1_col0\" class=\"data row1 col0\" >136</td>\n",
       "                        <td id=\"T_26363bfe_b33d_11ea_8637_3e22fb2e45d1row1_col1\" class=\"data row1 col1\" >$3.04</td>\n",
       "                        <td id=\"T_26363bfe_b33d_11ea_8637_3e22fb2e45d1row1_col2\" class=\"data row1 col2\" >$412.89</td>\n",
       "                        <td id=\"T_26363bfe_b33d_11ea_8637_3e22fb2e45d1row1_col3\" class=\"data row1 col3\" >$3.86</td>\n",
       "            </tr>\n",
       "            <tr>\n",
       "                        <th id=\"T_26363bfe_b33d_11ea_8637_3e22fb2e45d1level0_row2\" class=\"row_heading level0 row2\" >20-24</th>\n",
       "                        <td id=\"T_26363bfe_b33d_11ea_8637_3e22fb2e45d1row2_col0\" class=\"data row2 col0\" >365</td>\n",
       "                        <td id=\"T_26363bfe_b33d_11ea_8637_3e22fb2e45d1row2_col1\" class=\"data row2 col1\" >$3.05</td>\n",
       "                        <td id=\"T_26363bfe_b33d_11ea_8637_3e22fb2e45d1row2_col2\" class=\"data row2 col2\" >$1,114.06</td>\n",
       "                        <td id=\"T_26363bfe_b33d_11ea_8637_3e22fb2e45d1row2_col3\" class=\"data row2 col3\" >$4.32</td>\n",
       "            </tr>\n",
       "            <tr>\n",
       "                        <th id=\"T_26363bfe_b33d_11ea_8637_3e22fb2e45d1level0_row3\" class=\"row_heading level0 row3\" >25-29</th>\n",
       "                        <td id=\"T_26363bfe_b33d_11ea_8637_3e22fb2e45d1row3_col0\" class=\"data row3 col0\" >101</td>\n",
       "                        <td id=\"T_26363bfe_b33d_11ea_8637_3e22fb2e45d1row3_col1\" class=\"data row3 col1\" >$2.90</td>\n",
       "                        <td id=\"T_26363bfe_b33d_11ea_8637_3e22fb2e45d1row3_col2\" class=\"data row3 col2\" >$293.00</td>\n",
       "                        <td id=\"T_26363bfe_b33d_11ea_8637_3e22fb2e45d1row3_col3\" class=\"data row3 col3\" >$3.81</td>\n",
       "            </tr>\n",
       "            <tr>\n",
       "                        <th id=\"T_26363bfe_b33d_11ea_8637_3e22fb2e45d1level0_row4\" class=\"row_heading level0 row4\" >30-34</th>\n",
       "                        <td id=\"T_26363bfe_b33d_11ea_8637_3e22fb2e45d1row4_col0\" class=\"data row4 col0\" >73</td>\n",
       "                        <td id=\"T_26363bfe_b33d_11ea_8637_3e22fb2e45d1row4_col1\" class=\"data row4 col1\" >$2.93</td>\n",
       "                        <td id=\"T_26363bfe_b33d_11ea_8637_3e22fb2e45d1row4_col2\" class=\"data row4 col2\" >$214.00</td>\n",
       "                        <td id=\"T_26363bfe_b33d_11ea_8637_3e22fb2e45d1row4_col3\" class=\"data row4 col3\" >$4.12</td>\n",
       "            </tr>\n",
       "            <tr>\n",
       "                        <th id=\"T_26363bfe_b33d_11ea_8637_3e22fb2e45d1level0_row5\" class=\"row_heading level0 row5\" >35-39</th>\n",
       "                        <td id=\"T_26363bfe_b33d_11ea_8637_3e22fb2e45d1row5_col0\" class=\"data row5 col0\" >41</td>\n",
       "                        <td id=\"T_26363bfe_b33d_11ea_8637_3e22fb2e45d1row5_col1\" class=\"data row5 col1\" >$3.60</td>\n",
       "                        <td id=\"T_26363bfe_b33d_11ea_8637_3e22fb2e45d1row5_col2\" class=\"data row5 col2\" >$147.67</td>\n",
       "                        <td id=\"T_26363bfe_b33d_11ea_8637_3e22fb2e45d1row5_col3\" class=\"data row5 col3\" >$4.76</td>\n",
       "            </tr>\n",
       "            <tr>\n",
       "                        <th id=\"T_26363bfe_b33d_11ea_8637_3e22fb2e45d1level0_row6\" class=\"row_heading level0 row6\" ><10</th>\n",
       "                        <td id=\"T_26363bfe_b33d_11ea_8637_3e22fb2e45d1row6_col0\" class=\"data row6 col0\" >23</td>\n",
       "                        <td id=\"T_26363bfe_b33d_11ea_8637_3e22fb2e45d1row6_col1\" class=\"data row6 col1\" >$3.35</td>\n",
       "                        <td id=\"T_26363bfe_b33d_11ea_8637_3e22fb2e45d1row6_col2\" class=\"data row6 col2\" >$77.13</td>\n",
       "                        <td id=\"T_26363bfe_b33d_11ea_8637_3e22fb2e45d1row6_col3\" class=\"data row6 col3\" >$4.54</td>\n",
       "            </tr>\n",
       "            <tr>\n",
       "                        <th id=\"T_26363bfe_b33d_11ea_8637_3e22fb2e45d1level0_row7\" class=\"row_heading level0 row7\" >>40</th>\n",
       "                        <td id=\"T_26363bfe_b33d_11ea_8637_3e22fb2e45d1row7_col0\" class=\"data row7 col0\" >13</td>\n",
       "                        <td id=\"T_26363bfe_b33d_11ea_8637_3e22fb2e45d1row7_col1\" class=\"data row7 col1\" >$2.94</td>\n",
       "                        <td id=\"T_26363bfe_b33d_11ea_8637_3e22fb2e45d1row7_col2\" class=\"data row7 col2\" >$38.24</td>\n",
       "                        <td id=\"T_26363bfe_b33d_11ea_8637_3e22fb2e45d1row7_col3\" class=\"data row7 col3\" >$3.19</td>\n",
       "            </tr>\n",
       "    </tbody></table>"
      ],
      "text/plain": [
       "<pandas.io.formats.style.Styler at 0x11e6ce9d0>"
      ]
     },
     "execution_count": 16,
     "metadata": {},
     "output_type": "execute_result"
    }
   ],
   "source": [
    "purchase_data[\"bins\"] = pd.DataFrame(pd.cut(purchase_data[\"Age\"], bins, labels=names, include_lowest=True))\n",
    "binsdf = purchase_data.groupby([\"bins\"])\n",
    "purchase_count= binsdf[\"Price\"].count()\n",
    "average_price= binsdf[\"Price\"].mean()\n",
    "total_value= binsdf[\"Price\"].sum()\n",
    "purchase_total_person = (total_value/total_count)\n",
    "Purchasing_analysis_age = pd.DataFrame({\"Purchase Count\": purchase_count,\n",
    "                                        \"Average Purchase Price\":average_price, \n",
    "                                        \"Total Purchase Value\":total_value,\n",
    "                                       \"Avg Total Purchase per Person\":purchase_total_person})\n",
    "Purchasing_analysis_age.style.format({\"Average Purchase Price\":\"${:,.2f}\",\n",
    "                                      \"Total Purchase Value\":\"${:,.2f}\",\n",
    "                                     \"Avg Total Purchase per Person\":\"${:,.2f}\"})"
   ]
  },
  {
   "cell_type": "markdown",
   "metadata": {},
   "source": [
    "## Top Spenders"
   ]
  },
  {
   "cell_type": "markdown",
   "metadata": {},
   "source": [
    "* Run basic calculations to obtain the results in the table below\n",
    "\n",
    "\n",
    "* Create a summary data frame to hold the results\n",
    "\n",
    "\n",
    "* Sort the total purchase value column in descending order\n",
    "\n",
    "\n",
    "* Optional: give the displayed data cleaner formatting\n",
    "\n",
    "\n",
    "* Display a preview of the summary data frame\n",
    "\n"
   ]
  },
  {
   "cell_type": "code",
   "execution_count": 15,
   "metadata": {},
   "outputs": [
    {
     "data": {
      "text/html": [
       "<style  type=\"text/css\" >\n",
       "</style><table id=\"T_dbe00256_b33c_11ea_8637_3e22fb2e45d1\" ><thead>    <tr>        <th class=\"blank level0\" ></th>        <th class=\"col_heading level0 col0\" >Purchase Count</th>        <th class=\"col_heading level0 col1\" >Average Purchase Price</th>        <th class=\"col_heading level0 col2\" >Total Purchase Value</th>    </tr>    <tr>        <th class=\"index_name level0\" >SN</th>        <th class=\"blank\" ></th>        <th class=\"blank\" ></th>        <th class=\"blank\" ></th>    </tr></thead><tbody>\n",
       "                <tr>\n",
       "                        <th id=\"T_dbe00256_b33c_11ea_8637_3e22fb2e45d1level0_row0\" class=\"row_heading level0 row0\" >Lisosia93</th>\n",
       "                        <td id=\"T_dbe00256_b33c_11ea_8637_3e22fb2e45d1row0_col0\" class=\"data row0 col0\" >5</td>\n",
       "                        <td id=\"T_dbe00256_b33c_11ea_8637_3e22fb2e45d1row0_col1\" class=\"data row0 col1\" >$3.79</td>\n",
       "                        <td id=\"T_dbe00256_b33c_11ea_8637_3e22fb2e45d1row0_col2\" class=\"data row0 col2\" >$18.96</td>\n",
       "            </tr>\n",
       "            <tr>\n",
       "                        <th id=\"T_dbe00256_b33c_11ea_8637_3e22fb2e45d1level0_row1\" class=\"row_heading level0 row1\" >Idastidru52</th>\n",
       "                        <td id=\"T_dbe00256_b33c_11ea_8637_3e22fb2e45d1row1_col0\" class=\"data row1 col0\" >4</td>\n",
       "                        <td id=\"T_dbe00256_b33c_11ea_8637_3e22fb2e45d1row1_col1\" class=\"data row1 col1\" >$3.86</td>\n",
       "                        <td id=\"T_dbe00256_b33c_11ea_8637_3e22fb2e45d1row1_col2\" class=\"data row1 col2\" >$15.45</td>\n",
       "            </tr>\n",
       "            <tr>\n",
       "                        <th id=\"T_dbe00256_b33c_11ea_8637_3e22fb2e45d1level0_row2\" class=\"row_heading level0 row2\" >Chamjask73</th>\n",
       "                        <td id=\"T_dbe00256_b33c_11ea_8637_3e22fb2e45d1row2_col0\" class=\"data row2 col0\" >3</td>\n",
       "                        <td id=\"T_dbe00256_b33c_11ea_8637_3e22fb2e45d1row2_col1\" class=\"data row2 col1\" >$4.61</td>\n",
       "                        <td id=\"T_dbe00256_b33c_11ea_8637_3e22fb2e45d1row2_col2\" class=\"data row2 col2\" >$13.83</td>\n",
       "            </tr>\n",
       "            <tr>\n",
       "                        <th id=\"T_dbe00256_b33c_11ea_8637_3e22fb2e45d1level0_row3\" class=\"row_heading level0 row3\" >Iral74</th>\n",
       "                        <td id=\"T_dbe00256_b33c_11ea_8637_3e22fb2e45d1row3_col0\" class=\"data row3 col0\" >4</td>\n",
       "                        <td id=\"T_dbe00256_b33c_11ea_8637_3e22fb2e45d1row3_col1\" class=\"data row3 col1\" >$3.40</td>\n",
       "                        <td id=\"T_dbe00256_b33c_11ea_8637_3e22fb2e45d1row3_col2\" class=\"data row3 col2\" >$13.62</td>\n",
       "            </tr>\n",
       "            <tr>\n",
       "                        <th id=\"T_dbe00256_b33c_11ea_8637_3e22fb2e45d1level0_row4\" class=\"row_heading level0 row4\" >Iskadarya95</th>\n",
       "                        <td id=\"T_dbe00256_b33c_11ea_8637_3e22fb2e45d1row4_col0\" class=\"data row4 col0\" >3</td>\n",
       "                        <td id=\"T_dbe00256_b33c_11ea_8637_3e22fb2e45d1row4_col1\" class=\"data row4 col1\" >$4.37</td>\n",
       "                        <td id=\"T_dbe00256_b33c_11ea_8637_3e22fb2e45d1row4_col2\" class=\"data row4 col2\" >$13.10</td>\n",
       "            </tr>\n",
       "    </tbody></table>"
      ],
      "text/plain": [
       "<pandas.io.formats.style.Styler at 0x10dde2c50>"
      ]
     },
     "execution_count": 15,
     "metadata": {},
     "output_type": "execute_result"
    }
   ],
   "source": [
    "sndf= purchase_data.groupby([\"SN\"])\n",
    "total_purchase_value= sndf[\"Price\"].sum()\n",
    "average_purchase_price = sndf[\"Price\"].mean()\n",
    "purchase_count = sndf[\"Purchase ID\"].count()\n",
    "top_spender = pd.DataFrame({\"Purchase Count\":purchase_count,\n",
    "                            \"Average Purchase Price\":average_purchase_price,\n",
    "                            \"Total Purchase Value\":total_purchase_value})\n",
    "top_spender.sort_values(\"Total Purchase Value\", ascending=False).head(5).style.format({\"Average Purchase Price\":\"${:,.2f}\",\n",
    "                                                                                   \"Total Purchase Value\":\"${:,.2f}\"})"
   ]
  },
  {
   "cell_type": "markdown",
   "metadata": {},
   "source": [
    "## Most Popular Items"
   ]
  },
  {
   "cell_type": "markdown",
   "metadata": {},
   "source": [
    "* Retrieve the Item ID, Item Name, and Item Price columns\n",
    "\n",
    "\n",
    "* Group by Item ID and Item Name. Perform calculations to obtain purchase count, item price, and total purchase value\n",
    "\n",
    "\n",
    "* Create a summary data frame to hold the results\n",
    "\n",
    "\n",
    "* Sort the purchase count column in descending order\n",
    "\n",
    "\n",
    "* Optional: give the displayed data cleaner formatting\n",
    "\n",
    "\n",
    "* Display a preview of the summary data frame\n",
    "\n"
   ]
  },
  {
   "cell_type": "code",
   "execution_count": 12,
   "metadata": {},
   "outputs": [
    {
     "data": {
      "text/html": [
       "<style  type=\"text/css\" >\n",
       "</style><table id=\"T_b6a3cd2e_b33c_11ea_8637_3e22fb2e45d1\" ><thead>    <tr>        <th class=\"blank\" ></th>        <th class=\"blank level0\" ></th>        <th class=\"col_heading level0 col0\" >Purchase Count</th>        <th class=\"col_heading level0 col1\" >Item Price</th>        <th class=\"col_heading level0 col2\" >Total Purchase Value</th>    </tr>    <tr>        <th class=\"index_name level0\" >Item ID</th>        <th class=\"index_name level1\" >Item Name</th>        <th class=\"blank\" ></th>        <th class=\"blank\" ></th>        <th class=\"blank\" ></th>    </tr></thead><tbody>\n",
       "                <tr>\n",
       "                        <th id=\"T_b6a3cd2e_b33c_11ea_8637_3e22fb2e45d1level0_row0\" class=\"row_heading level0 row0\" >92</th>\n",
       "                        <th id=\"T_b6a3cd2e_b33c_11ea_8637_3e22fb2e45d1level1_row0\" class=\"row_heading level1 row0\" >Final Critic</th>\n",
       "                        <td id=\"T_b6a3cd2e_b33c_11ea_8637_3e22fb2e45d1row0_col0\" class=\"data row0 col0\" >13</td>\n",
       "                        <td id=\"T_b6a3cd2e_b33c_11ea_8637_3e22fb2e45d1row0_col1\" class=\"data row0 col1\" >$4.61</td>\n",
       "                        <td id=\"T_b6a3cd2e_b33c_11ea_8637_3e22fb2e45d1row0_col2\" class=\"data row0 col2\" >$59.99</td>\n",
       "            </tr>\n",
       "            <tr>\n",
       "                        <th id=\"T_b6a3cd2e_b33c_11ea_8637_3e22fb2e45d1level0_row1\" class=\"row_heading level0 row1\" >178</th>\n",
       "                        <th id=\"T_b6a3cd2e_b33c_11ea_8637_3e22fb2e45d1level1_row1\" class=\"row_heading level1 row1\" >Oathbreaker, Last Hope of the Breaking Storm</th>\n",
       "                        <td id=\"T_b6a3cd2e_b33c_11ea_8637_3e22fb2e45d1row1_col0\" class=\"data row1 col0\" >12</td>\n",
       "                        <td id=\"T_b6a3cd2e_b33c_11ea_8637_3e22fb2e45d1row1_col1\" class=\"data row1 col1\" >$4.23</td>\n",
       "                        <td id=\"T_b6a3cd2e_b33c_11ea_8637_3e22fb2e45d1row1_col2\" class=\"data row1 col2\" >$50.76</td>\n",
       "            </tr>\n",
       "            <tr>\n",
       "                        <th id=\"T_b6a3cd2e_b33c_11ea_8637_3e22fb2e45d1level0_row2\" class=\"row_heading level0 row2\" >145</th>\n",
       "                        <th id=\"T_b6a3cd2e_b33c_11ea_8637_3e22fb2e45d1level1_row2\" class=\"row_heading level1 row2\" >Fiery Glass Crusader</th>\n",
       "                        <td id=\"T_b6a3cd2e_b33c_11ea_8637_3e22fb2e45d1row2_col0\" class=\"data row2 col0\" >9</td>\n",
       "                        <td id=\"T_b6a3cd2e_b33c_11ea_8637_3e22fb2e45d1row2_col1\" class=\"data row2 col1\" >$4.58</td>\n",
       "                        <td id=\"T_b6a3cd2e_b33c_11ea_8637_3e22fb2e45d1row2_col2\" class=\"data row2 col2\" >$41.22</td>\n",
       "            </tr>\n",
       "            <tr>\n",
       "                        <th id=\"T_b6a3cd2e_b33c_11ea_8637_3e22fb2e45d1level0_row3\" class=\"row_heading level0 row3\" >132</th>\n",
       "                        <th id=\"T_b6a3cd2e_b33c_11ea_8637_3e22fb2e45d1level1_row3\" class=\"row_heading level1 row3\" >Persuasion</th>\n",
       "                        <td id=\"T_b6a3cd2e_b33c_11ea_8637_3e22fb2e45d1row3_col0\" class=\"data row3 col0\" >9</td>\n",
       "                        <td id=\"T_b6a3cd2e_b33c_11ea_8637_3e22fb2e45d1row3_col1\" class=\"data row3 col1\" >$3.22</td>\n",
       "                        <td id=\"T_b6a3cd2e_b33c_11ea_8637_3e22fb2e45d1row3_col2\" class=\"data row3 col2\" >$28.99</td>\n",
       "            </tr>\n",
       "            <tr>\n",
       "                        <th id=\"T_b6a3cd2e_b33c_11ea_8637_3e22fb2e45d1level0_row4\" class=\"row_heading level0 row4\" >108</th>\n",
       "                        <th id=\"T_b6a3cd2e_b33c_11ea_8637_3e22fb2e45d1level1_row4\" class=\"row_heading level1 row4\" >Extraction, Quickblade Of Trembling Hands</th>\n",
       "                        <td id=\"T_b6a3cd2e_b33c_11ea_8637_3e22fb2e45d1row4_col0\" class=\"data row4 col0\" >9</td>\n",
       "                        <td id=\"T_b6a3cd2e_b33c_11ea_8637_3e22fb2e45d1row4_col1\" class=\"data row4 col1\" >$3.53</td>\n",
       "                        <td id=\"T_b6a3cd2e_b33c_11ea_8637_3e22fb2e45d1row4_col2\" class=\"data row4 col2\" >$31.77</td>\n",
       "            </tr>\n",
       "    </tbody></table>"
      ],
      "text/plain": [
       "<pandas.io.formats.style.Styler at 0x11e744b90>"
      ]
     },
     "execution_count": 12,
     "metadata": {},
     "output_type": "execute_result"
    }
   ],
   "source": [
    "itemdf= purchase_data.groupby([\"Item ID\", \"Item Name\"])\n",
    "total_purchase_value= itemdf[\"Price\"].sum()\n",
    "Purchase_count = itemdf[\"Price\"].count()\n",
    "item_price= itemdf[\"Price\"].mean()\n",
    "Most_popular_items = pd.DataFrame({\"Purchase Count\":Purchase_count,\n",
    "                                   \"Item Price\":item_price,\n",
    "                                   \"Total Purchase Value\":total_purchase_value})\n",
    "Most_popular_items.sort_values(\"Purchase Count\", ascending=False).head(5).style.format({\"Item Price\":\"${:,.2f}\",\n",
    "                                                                                   \"Total Purchase Value\":\"${:,.2f}\"})"
   ]
  },
  {
   "cell_type": "markdown",
   "metadata": {},
   "source": [
    "## Most Profitable Items"
   ]
  },
  {
   "cell_type": "markdown",
   "metadata": {},
   "source": [
    "* Sort the above table by total purchase value in descending order\n",
    "\n",
    "\n",
    "* Optional: give the displayed data cleaner formatting\n",
    "\n",
    "\n",
    "* Display a preview of the data frame\n",
    "\n"
   ]
  },
  {
   "cell_type": "code",
   "execution_count": 14,
   "metadata": {
    "scrolled": true
   },
   "outputs": [
    {
     "data": {
      "text/html": [
       "<style  type=\"text/css\" >\n",
       "</style><table id=\"T_c368c456_b33c_11ea_8637_3e22fb2e45d1\" ><thead>    <tr>        <th class=\"blank\" ></th>        <th class=\"blank level0\" ></th>        <th class=\"col_heading level0 col0\" >Purchase Count</th>        <th class=\"col_heading level0 col1\" >Item Price</th>        <th class=\"col_heading level0 col2\" >Total Purchase Value</th>    </tr>    <tr>        <th class=\"index_name level0\" >Item ID</th>        <th class=\"index_name level1\" >Item Name</th>        <th class=\"blank\" ></th>        <th class=\"blank\" ></th>        <th class=\"blank\" ></th>    </tr></thead><tbody>\n",
       "                <tr>\n",
       "                        <th id=\"T_c368c456_b33c_11ea_8637_3e22fb2e45d1level0_row0\" class=\"row_heading level0 row0\" >92</th>\n",
       "                        <th id=\"T_c368c456_b33c_11ea_8637_3e22fb2e45d1level1_row0\" class=\"row_heading level1 row0\" >Final Critic</th>\n",
       "                        <td id=\"T_c368c456_b33c_11ea_8637_3e22fb2e45d1row0_col0\" class=\"data row0 col0\" >13</td>\n",
       "                        <td id=\"T_c368c456_b33c_11ea_8637_3e22fb2e45d1row0_col1\" class=\"data row0 col1\" >$4.61</td>\n",
       "                        <td id=\"T_c368c456_b33c_11ea_8637_3e22fb2e45d1row0_col2\" class=\"data row0 col2\" >$59.99</td>\n",
       "            </tr>\n",
       "            <tr>\n",
       "                        <th id=\"T_c368c456_b33c_11ea_8637_3e22fb2e45d1level0_row1\" class=\"row_heading level0 row1\" >178</th>\n",
       "                        <th id=\"T_c368c456_b33c_11ea_8637_3e22fb2e45d1level1_row1\" class=\"row_heading level1 row1\" >Oathbreaker, Last Hope of the Breaking Storm</th>\n",
       "                        <td id=\"T_c368c456_b33c_11ea_8637_3e22fb2e45d1row1_col0\" class=\"data row1 col0\" >12</td>\n",
       "                        <td id=\"T_c368c456_b33c_11ea_8637_3e22fb2e45d1row1_col1\" class=\"data row1 col1\" >$4.23</td>\n",
       "                        <td id=\"T_c368c456_b33c_11ea_8637_3e22fb2e45d1row1_col2\" class=\"data row1 col2\" >$50.76</td>\n",
       "            </tr>\n",
       "            <tr>\n",
       "                        <th id=\"T_c368c456_b33c_11ea_8637_3e22fb2e45d1level0_row2\" class=\"row_heading level0 row2\" >82</th>\n",
       "                        <th id=\"T_c368c456_b33c_11ea_8637_3e22fb2e45d1level1_row2\" class=\"row_heading level1 row2\" >Nirvana</th>\n",
       "                        <td id=\"T_c368c456_b33c_11ea_8637_3e22fb2e45d1row2_col0\" class=\"data row2 col0\" >9</td>\n",
       "                        <td id=\"T_c368c456_b33c_11ea_8637_3e22fb2e45d1row2_col1\" class=\"data row2 col1\" >$4.90</td>\n",
       "                        <td id=\"T_c368c456_b33c_11ea_8637_3e22fb2e45d1row2_col2\" class=\"data row2 col2\" >$44.10</td>\n",
       "            </tr>\n",
       "            <tr>\n",
       "                        <th id=\"T_c368c456_b33c_11ea_8637_3e22fb2e45d1level0_row3\" class=\"row_heading level0 row3\" >145</th>\n",
       "                        <th id=\"T_c368c456_b33c_11ea_8637_3e22fb2e45d1level1_row3\" class=\"row_heading level1 row3\" >Fiery Glass Crusader</th>\n",
       "                        <td id=\"T_c368c456_b33c_11ea_8637_3e22fb2e45d1row3_col0\" class=\"data row3 col0\" >9</td>\n",
       "                        <td id=\"T_c368c456_b33c_11ea_8637_3e22fb2e45d1row3_col1\" class=\"data row3 col1\" >$4.58</td>\n",
       "                        <td id=\"T_c368c456_b33c_11ea_8637_3e22fb2e45d1row3_col2\" class=\"data row3 col2\" >$41.22</td>\n",
       "            </tr>\n",
       "            <tr>\n",
       "                        <th id=\"T_c368c456_b33c_11ea_8637_3e22fb2e45d1level0_row4\" class=\"row_heading level0 row4\" >103</th>\n",
       "                        <th id=\"T_c368c456_b33c_11ea_8637_3e22fb2e45d1level1_row4\" class=\"row_heading level1 row4\" >Singed Scalpel</th>\n",
       "                        <td id=\"T_c368c456_b33c_11ea_8637_3e22fb2e45d1row4_col0\" class=\"data row4 col0\" >8</td>\n",
       "                        <td id=\"T_c368c456_b33c_11ea_8637_3e22fb2e45d1row4_col1\" class=\"data row4 col1\" >$4.35</td>\n",
       "                        <td id=\"T_c368c456_b33c_11ea_8637_3e22fb2e45d1row4_col2\" class=\"data row4 col2\" >$34.80</td>\n",
       "            </tr>\n",
       "    </tbody></table>"
      ],
      "text/plain": [
       "<pandas.io.formats.style.Styler at 0x11e732090>"
      ]
     },
     "execution_count": 14,
     "metadata": {},
     "output_type": "execute_result"
    }
   ],
   "source": [
    "Most_popular_items.sort_values(\"Total Purchase Value\", ascending=False).head(5).style.format({\"Item Price\":\"${:,.2f}\",\n",
    "                                                                                   \"Total Purchase Value\":\"${:,.2f}\"})"
   ]
  },
  {
   "cell_type": "code",
   "execution_count": null,
   "metadata": {},
   "outputs": [],
   "source": []
  }
 ],
 "metadata": {
  "anaconda-cloud": {},
  "kernel_info": {
   "name": "python3"
  },
  "kernelspec": {
   "display_name": "Python 3",
   "language": "python",
   "name": "python3"
  },
  "language_info": {
   "codemirror_mode": {
    "name": "ipython",
    "version": 3
   },
   "file_extension": ".py",
   "mimetype": "text/x-python",
   "name": "python",
   "nbconvert_exporter": "python",
   "pygments_lexer": "ipython3",
   "version": "3.7.6"
  },
  "latex_envs": {
   "LaTeX_envs_menu_present": true,
   "autoclose": false,
   "autocomplete": true,
   "bibliofile": "biblio.bib",
   "cite_by": "apalike",
   "current_citInitial": 1,
   "eqLabelWithNumbers": true,
   "eqNumInitial": 1,
   "hotkeys": {
    "equation": "Ctrl-E",
    "itemize": "Ctrl-I"
   },
   "labels_anchors": false,
   "latex_user_defs": false,
   "report_style_numbering": false,
   "user_envs_cfg": false
  },
  "nteract": {
   "version": "0.2.0"
  }
 },
 "nbformat": 4,
 "nbformat_minor": 2
}
